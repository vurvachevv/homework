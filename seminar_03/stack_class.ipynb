{
 "cells": [
  {
   "cell_type": "code",
   "execution_count": 1,
   "id": "0ffc4210-31b7-45ba-8153-68a182bdc262",
   "metadata": {},
   "outputs": [],
   "source": [
    "class Node():\n",
    "    def __init__(self, value):\n",
    "        self.value = value\n",
    "        self.next = None\n",
    "\n",
    "class Stack():\n",
    "    def __init__(self):\n",
    "        self.head = Node(\"head\")\n",
    "\n",
    "    def __str__(self):\n",
    "        cur = self.head.next\n",
    "        out = \"\"\n",
    "        sep = \"->\"\n",
    "        while cur != None:\n",
    "            out += f\"{cur.value}{sep}\"\n",
    "            cur = cur.next\n",
    "        out = out[:-2]\n",
    "        return out\n",
    "\n",
    "    def push(self, value): \n",
    "        new_element = Node(value)\n",
    "        new_element.next = self.head.next\n",
    "        self.head.next = new_element\n",
    "    \n",
    "    def pop(self):\n",
    "        tmp = self.head.next.value\n",
    "        #del self.head.next - удалить предыдущую ссылку\n",
    "        self.head.next = self.head.next.next\n",
    "        return tmp"
   ]
  },
  {
   "cell_type": "code",
   "execution_count": 2,
   "id": "b303a8c0-170b-4ad0-bf08-2e99146fab61",
   "metadata": {},
   "outputs": [
    {
     "name": "stdout",
     "output_type": "stream",
     "text": [
      "Стек: 4->3->2->1->0\n"
     ]
    }
   ],
   "source": [
    "s = Stack()\n",
    "for i in range(5):\n",
    "    s.push(i)\n",
    "print(f\"Стек: {s}\")"
   ]
  },
  {
   "cell_type": "code",
   "execution_count": 3,
   "id": "1b7ed573-8c3d-4bd0-9082-276b175be836",
   "metadata": {},
   "outputs": [],
   "source": [
    "class PersistentStack(Stack):\n",
    "    def __init__(self): \n",
    "        self.backups = []  \n",
    "        super().__init__()\n",
    "\n",
    "    def create_backup(self): \n",
    "        tmp = self\n",
    "        self.backups.append(tmp)\n",
    "\n",
    "    def get_backup(self, i):\n",
    "        return self.backups[i]\n",
    "\n",
    "    def push(self, value):\n",
    "        self.create_backup()  \n",
    "        super().push(value)\n",
    "\n",
    "    def pop(self):\n",
    "        self.create_backup()  \n",
    "        return super().pop()"
   ]
  },
  {
   "cell_type": "code",
   "execution_count": 4,
   "id": "faaf013e-4bd7-4f17-a8b7-45b5b78ccbe6",
   "metadata": {},
   "outputs": [
    {
     "name": "stdout",
     "output_type": "stream",
     "text": [
      "4->3->2->1->0\n",
      "4->3->2->1->0\n",
      "4->3->2->1->0\n",
      "4->3->2->1->0\n",
      "4->3->2->1->0\n",
      "PersistentStack: 4->3->2->1->0\n",
      "Pop: 4\n"
     ]
    }
   ],
   "source": [
    "s = PersistentStack()\n",
    "for i in range(5):\n",
    "    s.push(i)\n",
    "\n",
    "for i in range(5):\n",
    "    print(s.get_backup(i))\n",
    "\n",
    "print(f\"PersistentStack: {s}\")\n",
    "print(f\"Pop: {s.pop()}\")"
   ]
  },
  {
   "cell_type": "code",
   "execution_count": null,
   "id": "74888a0f-f673-4868-883f-a381e0ccfe11",
   "metadata": {},
   "outputs": [],
   "source": []
  }
 ],
 "metadata": {
  "kernelspec": {
   "display_name": "Python 3 (ipykernel)",
   "language": "python",
   "name": "python3"
  },
  "language_info": {
   "codemirror_mode": {
    "name": "ipython",
    "version": 3
   },
   "file_extension": ".py",
   "mimetype": "text/x-python",
   "name": "python",
   "nbconvert_exporter": "python",
   "pygments_lexer": "ipython3",
   "version": "3.10.12"
  }
 },
 "nbformat": 4,
 "nbformat_minor": 5
}
