{
 "cells": [
  {
   "cell_type": "code",
   "execution_count": 1,
   "id": "c3e2b95e-1e2c-4bc1-a861-f291663eee12",
   "metadata": {},
   "outputs": [],
   "source": [
    "class Node():\n",
    "    def __init__(self, value):\n",
    "        self.value = value\n",
    "        self.next = None\n",
    "\n",
    "class Stack():\n",
    "    def __init__(self):\n",
    "        self.head = Node(\"head\")\n",
    "\n",
    "    def __str__(self):\n",
    "        cur = self.head.next\n",
    "        out = \"\"\n",
    "        sep = \"->\"\n",
    "        while cur != None:\n",
    "            out += f\"{cur.value}{sep}\"\n",
    "            cur = cur.next\n",
    "        out = out[:-2]\n",
    "        return out\n",
    "\n",
    "    def push(self, value): \n",
    "        new_element = Node(value)\n",
    "        new_element.next = self.head.next\n",
    "        self.head.next = new_element\n",
    "    \n",
    "    def pop(self):\n",
    "        tmp = self.head.next.value\n",
    "        self.head.next = self.head.next.next\n",
    "        return tmp, id(self.head.next)"
   ]
  },
  {
   "cell_type": "code",
   "execution_count": 2,
   "id": "197aa9eb-74e7-4c1f-8e7f-dcc1c9eee992",
   "metadata": {},
   "outputs": [
    {
     "name": "stdout",
     "output_type": "stream",
     "text": [
      "Стек: 4->3->2->1->0\n"
     ]
    }
   ],
   "source": [
    "s = Stack()\n",
    "for i in range(5):\n",
    "    s.push(i)\n",
    "print(f\"Стек: {s}\")"
   ]
  },
  {
   "cell_type": "code",
   "execution_count": 3,
   "id": "f381b25e-fdeb-4323-977b-eb9a15ce2df2",
   "metadata": {},
   "outputs": [],
   "source": [
    "class PersistentStack(Stack):\n",
    "    def __init__(self): \n",
    "        super().__init__()\n",
    "        self.backups = []\n",
    "\n",
    "    def create_backup(self):\n",
    "        backup = []\n",
    "        cur = self.head.next\n",
    "        while cur:\n",
    "            backup.append((cur.value, id(cur)))\n",
    "            cur = cur.next\n",
    "        self.backups.append(backup)\n",
    "\n",
    "    def get_version(self, version_number):\n",
    "        backup = self.backups[version_number]\n",
    "        out = \"\"\n",
    "        sep = \"->\"\n",
    "        for value, node_id in backup:\n",
    "            out += f\"{value}({node_id}){sep}\"\n",
    "        out = out[:-2]\n",
    "        return out"
   ]
  },
  {
   "cell_type": "code",
   "execution_count": 4,
   "id": "6040f8e2-7d26-4ba0-9802-3489215c4bc5",
   "metadata": {},
   "outputs": [],
   "source": [
    "s = PersistentStack()\n",
    "for i in range(5):\n",
    "    s.push(i)\n",
    "\n",
    "for i in range(5):\n",
    "    s.create_backup()\n",
    "    s.pop()"
   ]
  },
  {
   "cell_type": "code",
   "execution_count": 5,
   "id": "ee59bcf8-b7da-4af1-bb77-739505842efd",
   "metadata": {},
   "outputs": [
    {
     "name": "stdout",
     "output_type": "stream",
     "text": [
      "Начальный стек: 4(140578660203296)->3(140578660203392)->2(140578660203536)->1(140578660199024)->0(140578659412832)\n",
      "Версия 1: 3(140578660203392)->2(140578660203536)->1(140578660199024)->0(140578659412832)\n",
      "Версия 2: 2(140578660203536)->1(140578660199024)->0(140578659412832)\n",
      "Версия 3: 1(140578660199024)->0(140578659412832)\n",
      "Версия 4: 0(140578659412832)\n"
     ]
    }
   ],
   "source": [
    "#выводит сразу все версии стека\n",
    "print(f\"Начальный стек: {s.get_version(0)}\")\n",
    "for i in range(1, len(s.backups)):\n",
    "    print(f\"Версия {i}: {s.get_version(i)}\")"
   ]
  },
  {
   "cell_type": "markdown",
   "id": "0fd8ca76-feb4-4c80-b624-9dd3855b708a",
   "metadata": {},
   "source": [
    "Реализация стека с частичной персистентностью, но с экономией памяти (видно, что айди узлов не меняется от версии к версии)."
   ]
  },
  {
   "cell_type": "code",
   "execution_count": null,
   "id": "681fc36b-c94f-42a3-965b-4947070a3edb",
   "metadata": {},
   "outputs": [],
   "source": []
  }
 ],
 "metadata": {
  "kernelspec": {
   "display_name": "Python 3 (ipykernel)",
   "language": "python",
   "name": "python3"
  },
  "language_info": {
   "codemirror_mode": {
    "name": "ipython",
    "version": 3
   },
   "file_extension": ".py",
   "mimetype": "text/x-python",
   "name": "python",
   "nbconvert_exporter": "python",
   "pygments_lexer": "ipython3",
   "version": "3.10.12"
  }
 },
 "nbformat": 4,
 "nbformat_minor": 5
}
