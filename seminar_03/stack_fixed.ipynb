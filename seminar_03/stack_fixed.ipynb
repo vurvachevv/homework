{
 "cells": [
  {
   "cell_type": "code",
   "execution_count": null,
   "id": "be0315be-f12e-4f44-817f-661d828785ae",
   "metadata": {},
   "outputs": [],
   "source": [
    "class Node():\n",
    "    def __init__(self, value):\n",
    "        self.value = value\n",
    "        self.next = None\n",
    "\n",
    "class Stack():\n",
    "    def __init__(self):\n",
    "        self.head = Node(\"head\")\n",
    "\n",
    "    def __str__(self):\n",
    "        cur = self.head.next\n",
    "        out = \"\"\n",
    "        sep = \"->\"\n",
    "        while cur != None:\n",
    "            out += f\"{cur.value}{sep}\"\n",
    "            cur = cur.next\n",
    "        out = out[:-2]\n",
    "        return out\n",
    "\n",
    "    def push(self, value): \n",
    "        new_element = Node(value)\n",
    "        new_element.next = self.head.next\n",
    "        self.head.next = new_element\n",
    "    \n",
    "    def pop(self):\n",
    "        tmp = self.head.next.value\n",
    "        self.head.next = self.head.next.next\n",
    "        return tmp"
   ]
  },
  {
   "cell_type": "code",
   "execution_count": 27,
   "id": "c09fa96c-ae13-4d1e-bdbe-296ec3a1b2c2",
   "metadata": {},
   "outputs": [
    {
     "name": "stdout",
     "output_type": "stream",
     "text": [
      "Стек: 4->3->2->1->0\n"
     ]
    }
   ],
   "source": [
    "s = Stack()\n",
    "for i in range(5):\n",
    "    s.push(i)\n",
    "print(f\"Стек: {s}\")"
   ]
  },
  {
   "cell_type": "code",
   "execution_count": 33,
   "id": "0f8315bb-78d6-4326-9c24-21c2db66077e",
   "metadata": {},
   "outputs": [],
   "source": [
    "class PersistentStack(Stack):\n",
    "    def __init__(self): \n",
    "        super().__init__()\n",
    "        self.backups = []\n",
    "\n",
    "    def create_backup(self):\n",
    "        tmp = PersistentStack()\n",
    "        cur = self.head.next\n",
    "        while cur != None:\n",
    "            tmp.push(cur.value)\n",
    "            cur = cur.next\n",
    "        self.backups.append(tmp)\n",
    "\n",
    "    def get_version(self, version_number):\n",
    "            return self.backups[version_number]"
   ]
  },
  {
   "cell_type": "code",
   "execution_count": 34,
   "id": "ca634326-cd76-4d1b-9c8d-ced2f2f16deb",
   "metadata": {},
   "outputs": [],
   "source": [
    "s = PersistentStack()\n",
    "for i in range(4, -1, -1):\n",
    "    s.push(i)\n",
    "\n",
    "for i in range(5):\n",
    "    s.create_backup()\n",
    "    s.pop()"
   ]
  },
  {
   "cell_type": "code",
   "execution_count": 35,
   "id": "ac631f37-e491-4b4a-bae3-70be459fb014",
   "metadata": {},
   "outputs": [
    {
     "name": "stdout",
     "output_type": "stream",
     "text": [
      "Начальный стек: 4->3->2->1->0\n",
      "Версия 1: 4->3->2->1\n",
      "Версия 2: 4->3->2\n",
      "Версия 3: 4->3\n",
      "Версия 4: 4\n"
     ]
    }
   ],
   "source": [
    "#выводит сразу все версии стека\n",
    "print(f\"Начальный стек: {s.get_version(0)}\")\n",
    "for i in range(1, len(s.backups)):\n",
    "    print(f\"Версия {i}: {s.get_version(i)}\")"
   ]
  },
  {
   "cell_type": "code",
   "execution_count": 36,
   "id": "989c0471-3578-4853-b456-f86858b34a9d",
   "metadata": {},
   "outputs": [
    {
     "name": "stdin",
     "output_type": "stream",
     "text": [
      " 4\n"
     ]
    },
    {
     "name": "stdout",
     "output_type": "stream",
     "text": [
      "Версия 4: 4\n"
     ]
    }
   ],
   "source": [
    "#выводит нужную версию стека по введенному числу\n",
    "j = int(input())\n",
    "print(f\"Версия {j}: {s.get_version(j)}\")"
   ]
  },
  {
   "cell_type": "markdown",
   "id": "0c7be892-f442-479f-8de1-b6d1741dd098",
   "metadata": {},
   "source": [
    "Проблема в том, что в функции (в классном стеке) `create_backup` мы добавляем в список `self.backups` бэкап объекта `self`, который всегда ссылается на одно и то же. Таким образом, все элементы в списке `self.backups` будут одинаковы, поскольку всё, что было написано в функции `create_backup`, применяется к одному и тому же элементу.\n",
    "\n",
    "Во второй версии стека я создаю новый объект `tmp` каждый раз, когда вызывается функция `create_backup` (т.е. создаю отдельные версии стека для каждого бэкапа). Поэтому в этом случае функция каждый раз обращается к новому элементу, и нет повтора версий."
   ]
  },
  {
   "cell_type": "code",
   "execution_count": null,
   "id": "325e2d17-3a79-470e-8bfc-f4efd3af9e0f",
   "metadata": {},
   "outputs": [],
   "source": []
  }
 ],
 "metadata": {
  "kernelspec": {
   "display_name": "Python 3 (ipykernel)",
   "language": "python",
   "name": "python3"
  },
  "language_info": {
   "codemirror_mode": {
    "name": "ipython",
    "version": 3
   },
   "file_extension": ".py",
   "mimetype": "text/x-python",
   "name": "python",
   "nbconvert_exporter": "python",
   "pygments_lexer": "ipython3",
   "version": "3.10.12"
  }
 },
 "nbformat": 4,
 "nbformat_minor": 5
}
