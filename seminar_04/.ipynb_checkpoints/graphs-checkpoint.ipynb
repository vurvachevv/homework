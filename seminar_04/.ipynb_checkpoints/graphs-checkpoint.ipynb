{
 "cells": [
  {
   "cell_type": "code",
   "execution_count": 8,
   "id": "0b1583cd-6906-4bee-b869-2deb85bf6714",
   "metadata": {},
   "outputs": [],
   "source": [
    "edge_list = [ \n",
    "             [0,1], [0,2], [0,3],\n",
    "             [1,2], [1,4],\n",
    "             [2,4],\n",
    "             [3,4],\n",
    "             [4,5],\n",
    "             [5,3],\n",
    "             [6,5]\n",
    "]\n",
    "vert_num = 7"
   ]
  },
  {
   "cell_type": "code",
   "execution_count": 9,
   "id": "95d58510-95f2-4356-9ddd-360cc2db2014",
   "metadata": {},
   "outputs": [
    {
     "data": {
      "text/plain": [
       "[[1, 2, 3], [2, 4], [4], [4], [5], [3], [5]]"
      ]
     },
     "execution_count": 9,
     "metadata": {},
     "output_type": "execute_result"
    }
   ],
   "source": [
    "adj_list = [[] for _ in range(vert_num)]\n",
    "for edge in edge_list:\n",
    "    u = edge[0]\n",
    "    v = edge[1]\n",
    "    adj_list[u].append(v)\n",
    "adj_list"
   ]
  },
  {
   "cell_type": "code",
   "execution_count": 10,
   "id": "ef6f4db1-5f17-47e1-ab51-e49c5df16af7",
   "metadata": {},
   "outputs": [
    {
     "name": "stdout",
     "output_type": "stream",
     "text": [
      "found cycle 4 -> 5\n",
      "['w', 'w', 'w', 'b', 'b', 'b', 'b']\n",
      "[None, None, None, 3, 4, 2, 1]\n",
      "[None, None, None, 6, 5, 7, 8]\n"
     ]
    }
   ],
   "source": [
    "#поиск в глубину(DFS)\n",
    "#colors - список, содержайщий количество заходов в вершину \n",
    "g = adj_list\n",
    "parents = [None for _ in range(vert_num)]\n",
    "colors = [\"w\" for _ in range(vert_num)]\n",
    "timer = 0\n",
    "tin = [None for _ in range(vert_num)]\n",
    "tout = [None for _ in range(vert_num)]\n",
    "def dfs(v, p=-1):\n",
    "    global timer\n",
    "    parents[v] = p\n",
    "    colors[v] = \"g\"\n",
    "    timer += 1\n",
    "    tin[v] = timer\n",
    "    for u in g[v]:\n",
    "        if colors[u] == \"g\":\n",
    "            print(f\"found cycle {v} -> {u}\")\n",
    "            continue\n",
    "        elif colors[u] == \"b\":\n",
    "            continue\n",
    "        elif colors[u] == \"w\":\n",
    "            dfs(u, v)\n",
    "    colors[v] = \"b\"\n",
    "    timer += 1\n",
    "    tout[v] = timer\n",
    "dfs(6)\n",
    "print(colors)\n",
    "print(tin)\n",
    "print(tout)"
   ]
  },
  {
   "cell_type": "code",
   "execution_count": 11,
   "id": "30fb94c8-bd64-444c-b71f-e3486261abf1",
   "metadata": {},
   "outputs": [],
   "source": [
    "edge_list = [ \n",
    "             [0,1], [0,3], \n",
    "             [1,3], \n",
    "             [2,3], \n",
    "             [4,0], [4,3], \n",
    "             [5,0]\n",
    "]\n",
    "vert_num = 6"
   ]
  },
  {
   "cell_type": "code",
   "execution_count": 12,
   "id": "c0ad1e7c-3e79-4b10-89eb-6d93cbafc34f",
   "metadata": {},
   "outputs": [
    {
     "data": {
      "text/plain": [
       "[[1, 3], [3], [3], [], [0, 3], [0]]"
      ]
     },
     "execution_count": 12,
     "metadata": {},
     "output_type": "execute_result"
    }
   ],
   "source": [
    "#список смежности\n",
    "adj_list = [[] for _ in range(vert_num)]\n",
    "for edge in edge_list:\n",
    "    u = edge[0]\n",
    "    v = edge[1]\n",
    "    adj_list[u].append(v)\n",
    "adj_list"
   ]
  },
  {
   "cell_type": "code",
   "execution_count": 13,
   "id": "2d96c0d3-0359-4973-8aa4-5e735f805ac4",
   "metadata": {},
   "outputs": [
    {
     "name": "stdout",
     "output_type": "stream",
     "text": [
      "[5, 4, 2, 0, 1, 3]\n"
     ]
    }
   ],
   "source": [
    "#топологическая сортировка \n",
    "g = adj_list\n",
    "parents = [None for _ in range(vert_num)]\n",
    "colors = [\"w\" for _ in range(vert_num)]\n",
    "timer = 0\n",
    "tin = [None for _ in range(vert_num)]\n",
    "tout = [None for _ in range(vert_num)]\n",
    "def top_sort():\n",
    "    for v in range(vert_num):\n",
    "        if colors[v] == \"w\":\n",
    "            dfs(v)\n",
    "\n",
    "    vert_list = [i for i in range(vert_num)]\n",
    "    ans =[\n",
    "        x for y, x in sorted(zip(tout, vert_list),\n",
    "key = lambda pair: pair[0], reverse = True)\n",
    "    ]\n",
    "    return ans\n",
    "top_sort()\n",
    "ts = top_sort()\n",
    "print(ts)"
   ]
  },
  {
   "cell_type": "code",
   "execution_count": 14,
   "id": "1366c1c9-8cc0-4df4-aa20-da9e298ca980",
   "metadata": {},
   "outputs": [
    {
     "name": "stdout",
     "output_type": "stream",
     "text": [
      "[4, 2, 2, 1, 6, 5]\n"
     ]
    }
   ],
   "source": [
    "#вывод количества путей с помощью top_sort\n",
    "sa1d = [1 for _ in range(vert_num)] # 1 сразу включает в себя то, что можно прийти одним путем в ту же вершину\n",
    "for v in ts[::-1]:\n",
    "    for u in range(vert_num):\n",
    "        if u in adj_list[v]:\n",
    "            sa1d[v] += sa1d[u]\n",
    "print(sa1d)"
   ]
  },
  {
   "cell_type": "markdown",
   "id": "2f3a1c4a-e9a8-4dec-ae7b-4e1c12cdf842",
   "metadata": {},
   "source": [
    "У меня не получилось реализовать полностью вывод цикла, потому что в моей реализации вывода изменялись цвета вершин графа. Наверное, стоило написать отдельную функцию, а не писать весь алгоритм внутри dfs но я больно поздно до этого додумался(("
   ]
  },
  {
   "cell_type": "code",
   "execution_count": null,
   "id": "eaf7b4af-c280-4623-a7ff-5d1111ee8529",
   "metadata": {},
   "outputs": [],
   "source": []
  }
 ],
 "metadata": {
  "kernelspec": {
   "display_name": "Python 3 (ipykernel)",
   "language": "python",
   "name": "python3"
  },
  "language_info": {
   "codemirror_mode": {
    "name": "ipython",
    "version": 3
   },
   "file_extension": ".py",
   "mimetype": "text/x-python",
   "name": "python",
   "nbconvert_exporter": "python",
   "pygments_lexer": "ipython3",
   "version": "3.10.12"
  }
 },
 "nbformat": 4,
 "nbformat_minor": 5
}
