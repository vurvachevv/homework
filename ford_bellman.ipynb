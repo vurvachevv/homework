{
 "cells": [
  {
   "cell_type": "code",
   "execution_count": 97,
   "id": "c5981960-daca-4597-998d-3a2d0cfa9ace",
   "metadata": {},
   "outputs": [],
   "source": [
    "edge_list = [\n",
    "[0,1], \n",
    "[1,3], [1,6],\n",
    "[3,2], [3,7],\n",
    "[4,2],\n",
    "[6,3],\n",
    "[7,4], [7,5]\n",
    "]\n",
    "vert_num = 8\n",
    "weight_list = [\n",
    "    5,\n",
    "    12.0, 3.0, \n",
    "    7.0, 1.0, \n",
    "    2.0, \n",
    "    4.0, \n",
    "    10.0, 3.0\n",
    "] #проверка алгоритма на стандартном случае"
   ]
  },
  {
   "cell_type": "code",
   "execution_count": 98,
   "id": "06dd8099-7f11-4ff1-94d3-ba62e6ed9e02",
   "metadata": {},
   "outputs": [],
   "source": [
    "BIG_NUM = 10 ** 3"
   ]
  },
  {
   "cell_type": "code",
   "execution_count": 99,
   "id": "d464ead0-3b97-4592-bd01-c67be9d9617a",
   "metadata": {},
   "outputs": [],
   "source": [
    "dist = [BIG_NUM for _ in range(vert_num)]\n",
    "parents = [None for _ in range(vert_num)]\n",
    "def construct_adj_matrix(edge_list, weight_list, vert_num):\n",
    "    adj_matrix = [\n",
    "        [BIG_NUM for _ in range(vert_num)] for _ in range(vert_num)\n",
    "    ]\n",
    "\n",
    "    for edge, weight in zip(edge_list, weight_list):\n",
    "        src = edge[0]\n",
    "        dest = edge[1]\n",
    "        adj_matrix[src][dest] = weight\n",
    "    return adj_matrix\n",
    "\n",
    "\n",
    "adj_matrix = construct_adj_matrix(edge_list, weight_list, vert_num)"
   ]
  },
  {
   "cell_type": "code",
   "execution_count": 100,
   "id": "7df65601-2749-4c72-8565-147152215653",
   "metadata": {},
   "outputs": [],
   "source": [
    "def Ford_Bellman(edge_list, src):\n",
    "    dist[src] = 0\n",
    "    for i in range(vert_num - 1):\n",
    "        for edge in edge_list:\n",
    "            v, u = edge[0], edge[1]\n",
    "            if dist[u] > dist[v] + adj_matrix[v][u]:\n",
    "                dist[u] = dist[v] + adj_matrix[v][u]\n",
    "                parents[u] = v\n",
    "    return dist"
   ]
  },
  {
   "cell_type": "code",
   "execution_count": 101,
   "id": "83b69edb-7218-42e0-994f-281c645b7e28",
   "metadata": {},
   "outputs": [
    {
     "name": "stdout",
     "output_type": "stream",
     "text": [
      "[0, 5, 19.0, 12.0, 23.0, 16.0, 8.0, 13.0]\n"
     ]
    }
   ],
   "source": [
    "print(Ford_Bellman(edge_list, 0))"
   ]
  },
  {
   "cell_type": "code",
   "execution_count": 102,
   "id": "7f7fa176-15ce-4df1-88e6-27152f66eff2",
   "metadata": {},
   "outputs": [],
   "source": [
    "edge_list = [\n",
    "    [0, 1], [0, 2],\n",
    "    [1, 3],\n",
    "    [2, 1]\n",
    "]\n",
    "\n",
    "vert_num = 4\n",
    "\n",
    "weight_list = [\n",
    "    1, -7, \n",
    "    5, \n",
    "    6\n",
    "] #проверка алгоритма в случае, когда есть отрицательный вес ребра"
   ]
  },
  {
   "cell_type": "code",
   "execution_count": 103,
   "id": "a645fb97-be8b-4353-aeb4-25eb011d4107",
   "metadata": {},
   "outputs": [],
   "source": [
    "BIG_NUM = 10 ** 3"
   ]
  },
  {
   "cell_type": "code",
   "execution_count": 104,
   "id": "6cf48050-ebcf-4290-bc9e-36e6e84c7cb3",
   "metadata": {},
   "outputs": [],
   "source": [
    "dist = [BIG_NUM for _ in range(vert_num)]\n",
    "parents = [None for _ in range(vert_num)]\n",
    "def construct_adj_matrix(edge_list, weight_list, vert_num):\n",
    "    adj_matrix = [\n",
    "        [BIG_NUM for _ in range(vert_num)] for _ in range(vert_num)\n",
    "    ]\n",
    "\n",
    "    for edge, weight in zip(edge_list, weight_list):\n",
    "        src = edge[0]\n",
    "        dest = edge[1]\n",
    "        adj_matrix[src][dest] = weight\n",
    "    return adj_matrix\n",
    "\n",
    "\n",
    "adj_matrix = construct_adj_matrix(edge_list, weight_list, vert_num)"
   ]
  },
  {
   "cell_type": "code",
   "execution_count": 105,
   "id": "958d4b5a-9cea-42a3-a15f-4cb23d0c5280",
   "metadata": {},
   "outputs": [],
   "source": [
    "def Ford_Bellman(edge_list, src):\n",
    "    dist[src] = 0\n",
    "    for i in range(vert_num - 1):\n",
    "        for edge in edge_list:\n",
    "            v, u = edge[0], edge[1]\n",
    "            if dist[u] > dist[v] + adj_matrix[v][u]:\n",
    "                dist[u] = dist[v] + adj_matrix[v][u]\n",
    "                parents[u] = v\n",
    "    return dist"
   ]
  },
  {
   "cell_type": "code",
   "execution_count": 106,
   "id": "9ecd25eb-eae3-406e-ae2e-686aeabbd0fe",
   "metadata": {},
   "outputs": [
    {
     "name": "stdout",
     "output_type": "stream",
     "text": [
      "[0, -1, -7, 4]\n"
     ]
    }
   ],
   "source": [
    "print(Ford_Bellman(edge_list, 0))"
   ]
  },
  {
   "cell_type": "markdown",
   "id": "b17554a8-6470-4450-8bd1-39e67e149319",
   "metadata": {},
   "source": [
    "Функция `Ford_Bellman` называется релаксацией ребра"
   ]
  }
 ],
 "metadata": {
  "kernelspec": {
   "display_name": "Python 3 (ipykernel)",
   "language": "python",
   "name": "python3"
  },
  "language_info": {
   "codemirror_mode": {
    "name": "ipython",
    "version": 3
   },
   "file_extension": ".py",
   "mimetype": "text/x-python",
   "name": "python",
   "nbconvert_exporter": "python",
   "pygments_lexer": "ipython3",
   "version": "3.10.12"
  }
 },
 "nbformat": 4,
 "nbformat_minor": 5
}
